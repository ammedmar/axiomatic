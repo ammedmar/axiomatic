{
 "cells": [
  {
   "cell_type": "code",
   "execution_count": 1,
   "id": "72b7ff8e",
   "metadata": {},
   "outputs": [],
   "source": [
    "from comch import *"
   ]
  },
  {
   "cell_type": "code",
   "execution_count": 6,
   "id": "4549958c",
   "metadata": {
    "scrolled": true
   },
   "outputs": [
    {
     "data": {
      "text/plain": [
       "SimplicialElement({((0, 1), (2)): 1,\n",
       "                   ((2), (0, 1)): 1,\n",
       "                   ((1, 2), (0)): 1,\n",
       "                   ((0), (1, 2)): 1,\n",
       "                   ((0, 2), (1)): 1,\n",
       "                   ((1), (0, 2)): 1})"
      ]
     },
     "execution_count": 6,
     "metadata": {},
     "output_type": "execute_result"
    }
   ],
   "source": [
    "delta02 = SimplicialElement({\n",
    "            ((0, 1, 2), (2,)): 1, \n",
    "            ((1, 2), (0, 1)) : 1, # tranposed\n",
    "            ((0,), (0, 1, 2)): 1}, torsion=2)\n",
    "phi = SimplicialElement({\n",
    "            ((0, 1, 2), (1,)): 1,\n",
    "            ((1,), (0, 1, 2)): 1}, torsion=2)\n",
    "\n",
    "delta01 = SimplicialElement({\n",
    "            ((0,), (0, 1)): 1, ((0, 1), (1,)): 1,\n",
    "            ((0,), (0, 2)): 1, ((0, 2), (2,)): 1,\n",
    "            ((1,), (1, 2)): 1, ((1, 2), (2,)): 1},\n",
    "            torsion=2)\n",
    "\n",
    "(delta02 + phi).boundary() + delta01"
   ]
  },
  {
   "cell_type": "code",
   "execution_count": 14,
   "id": "5984f62a",
   "metadata": {},
   "outputs": [
    {
     "data": {
      "text/plain": [
       "SimplicialElement({((1, 2), (1, 2, 3)): 1,\n",
       "                   ((1, 2, 3), (1, 3)): 1,\n",
       "                   ((2, 3), (1, 2, 3)): 1,\n",
       "                   ((0, 2), (0, 2, 3)): 1,\n",
       "                   ((0, 2, 3), (0, 3)): 1,\n",
       "                   ((2, 3), (0, 2, 3)): 1,\n",
       "                   ((0, 1), (0, 1, 3)): 1,\n",
       "                   ((0, 1, 3), (0, 3)): 1,\n",
       "                   ((1, 3), (0, 1, 3)): 1,\n",
       "                   ((0, 1), (0, 1, 2)): 1,\n",
       "                   ((0, 1, 2), (0, 2)): 1,\n",
       "                   ((1, 2), (0, 1, 2)): 1})"
      ]
     },
     "execution_count": 14,
     "metadata": {},
     "output_type": "execute_result"
    }
   ],
   "source": [
    "s = SurjectionElement({(2,1,2):1},torsion=2,convention=\"McClure-Smith\")\n",
    "spx = Simplicial.standard_element(3, torsion=2)\n",
    "s(spx)\n",
    "s(spx.boundary())\n"
   ]
  },
  {
   "cell_type": "code",
   "execution_count": 17,
   "id": "9694f170",
   "metadata": {},
   "outputs": [],
   "source": [
    "s = SurjectionElement({(2,1,2):1},torsion=2,convention=\"McClure-Smith\")\n",
    "spx = Simplicial.standard_element(3, torsion=2)\n",
    "\n",
    "delta13 = SimplicialElement({\n",
    "            ((0, 1), (0, 1, 2, 3)): 1,\n",
    "            ((0, 1, 2), (0, 2, 3)): 1,\n",
    "            ((0, 1, 2, 3), (0, 3)): 1,\n",
    "            ((1, 2), (0, 1, 2, 3)): 1,\n",
    "            ((0, 1, 3), (1, 2, 3)): 1, # this transposed\n",
    "            ((2, 3), (0, 1, 2, 3)): 1}, torsion=2)\n",
    "phi = SimplicialElement({\n",
    "            ((0, 1, 2, 3), (1, 3)): 1,\n",
    "            ((1, 3), (0, 1, 2, 3)): 1}, torsion=2)\n",
    "\n",
    "delta12 = s(spx.boundary())\n",
    "\n",
    "x = (delta13 + phi).boundary() + delta12"
   ]
  },
  {
   "cell_type": "code",
   "execution_count": 37,
   "id": "66301d56",
   "metadata": {},
   "outputs": [
    {
     "data": {
      "text/plain": [
       "SimplicialElement({((0), (0, 1, 2, 3)): 1,\n",
       "                   ((0, 1, 2), (2, 3)): 1,\n",
       "                   ((1, 2, 3), (0, 3)): 1,\n",
       "                   ((0, 1, 2, 3), (0)): 1,\n",
       "                   ((1, 2), (0, 1, 3)): 1,\n",
       "                   ((0, 3), (1, 2, 3)): 1,\n",
       "                   ((0, 1, 3), (2, 3)): 1,\n",
       "                   ((0, 1, 3), (1, 2)): 1,\n",
       "                   ((2, 3), (0, 1, 3)): 1,\n",
       "                   ((2, 3), (0, 1, 2)): 1,\n",
       "                   ((0, 2, 3), (1, 3)): 1,\n",
       "                   ((0, 1, 2), (1, 3)): 1,\n",
       "                   ((0, 1, 2, 3), (1)): 1,\n",
       "                   ((1), (0, 1, 2, 3)): 1,\n",
       "                   ((1, 3), (0, 2, 3)): 1,\n",
       "                   ((1, 3), (0, 1, 2)): 1})"
      ]
     },
     "execution_count": 37,
     "metadata": {},
     "output_type": "execute_result"
    }
   ],
   "source": [
    "r = SurjectionElement({(1,2):1}, torsion=2, convention=\"McClure-Smith\")\n",
    "t = SurjectionElement({(2,1):1}, torsion=2, convention=\"McClure-Smith\")\n",
    "y = t(spx.boundary()) + r(spx.boundary())\n",
    "y + x.boundary()"
   ]
  },
  {
   "cell_type": "code",
   "execution_count": 55,
   "id": "850adf5d",
   "metadata": {},
   "outputs": [
    {
     "data": {
      "text/plain": [
       "65536"
      ]
     },
     "execution_count": 55,
     "metadata": {},
     "output_type": "execute_result"
    }
   ],
   "source": []
  },
  {
   "cell_type": "code",
   "execution_count": 56,
   "id": "344df3e0",
   "metadata": {},
   "outputs": [
    {
     "name": "stdout",
     "output_type": "stream",
     "text": [
      "0\n",
      "1000\n",
      "2000\n",
      "3000\n",
      "4000\n",
      "5000\n",
      "6000\n",
      "7000\n",
      "8000\n",
      "9000\n",
      "10000\n",
      "11000\n",
      "12000\n",
      "13000\n",
      "14000\n",
      "15000\n",
      "16000\n",
      "17000\n",
      "18000\n",
      "19000\n",
      "20000\n",
      "21000\n",
      "22000\n",
      "23000\n",
      "24000\n",
      "25000\n",
      "26000\n",
      "27000\n",
      "28000\n",
      "29000\n",
      "30000\n",
      "31000\n",
      "32000\n",
      "33000\n",
      "34000\n",
      "35000\n",
      "36000\n",
      "37000\n",
      "38000\n",
      "39000\n",
      "40000\n",
      "41000\n",
      "42000\n",
      "43000\n",
      "44000\n",
      "45000\n",
      "46000\n",
      "47000\n",
      "48000\n",
      "49000\n",
      "50000\n",
      "51000\n",
      "52000\n",
      "53000\n",
      "54000\n",
      "55000\n",
      "56000\n",
      "57000\n",
      "58000\n",
      "59000\n",
      "60000\n",
      "61000\n",
      "62000\n",
      "63000\n",
      "64000\n",
      "65000\n"
     ]
    }
   ],
   "source": [
    "# from itertools import product\n",
    "\n",
    "# z = r(spx.boundary())\n",
    "# # has to equal the boundary of some splitting of x\n",
    "\n",
    "# keys = tuple(x.keys())\n",
    "\n",
    "# for i, coef in enumerate(product([0, 1], repeat=16)):\n",
    "#     a = SimplicialElement({k:z for k,z in zip(keys,coef)}, torsion=2)\n",
    "#     if not a.boundary() + z:\n",
    "#         print(a)\n",
    "#     if i % 1000 == 0:\n",
    "#         print(i)"
   ]
  }
 ],
 "metadata": {
  "kernelspec": {
   "display_name": "Python 3 (ipykernel)",
   "language": "python",
   "name": "python3"
  },
  "language_info": {
   "codemirror_mode": {
    "name": "ipython",
    "version": 3
   },
   "file_extension": ".py",
   "mimetype": "text/x-python",
   "name": "python",
   "nbconvert_exporter": "python",
   "pygments_lexer": "ipython3",
   "version": "3.8.5"
  }
 },
 "nbformat": 4,
 "nbformat_minor": 5
}
