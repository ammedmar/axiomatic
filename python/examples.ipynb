{
 "cells": [
  {
   "cell_type": "code",
   "execution_count": 57,
   "id": "520564bb-8ea4-40b3-9f1f-bd5fcdac2770",
   "metadata": {},
   "outputs": [
    {
     "name": "stdout",
     "output_type": "stream",
     "text": [
      "((1,2),(1,)) + ((0,2),(1,)) + ((1,),(0,2)) + ((1,),(0,1)) + ((1,2),(0,)) + ((0,2),(0,)) + ((0,1),(0,)) + ((1,2),(2,)) + ((0,),(0,2)) + ((0,2),(2,)) + ((0,),(0,1))\n",
      "((1,2),(1,)) + ((0,2),(1,)) + ((1,),(0,2)) + ((1,),(0,1)) + ((0,),(1,2)) + ((1,2),(2,)) + ((0,2),(2,))\n",
      "((1,2),(1,)) + ((1,),(0,2)) + ((1,),(0,1)) + ((2,),(1,2)) + ((0,),(1,2)) + ((1,2),(2,)) + ((0,),(0,2)) + ((0,),(0,1))\n",
      "((1,2),(1,)) + ((0,2),(1,)) + ((1,),(0,1)) + ((2,),(0,2)) + ((1,2),(0,)) + ((0,),(0,2)) + ((0,2),(2,)) + ((0,),(0,1))\n",
      "((1,2),(1,)) + ((0,2),(1,)) + ((1,2),(0,)) + ((0,2),(0,)) + ((0,1),(0,)) + ((0,),(1,2)) + ((1,),(1,2)) + ((1,2),(2,)) + ((0,2),(2,))\n",
      "((1,2),(1,)) + ((1,2),(0,)) + ((0,2),(0,)) + ((0,1),(0,)) + ((2,),(1,2)) + ((0,),(1,2)) + ((1,),(1,2)) + ((1,2),(2,)) + ((0,),(0,2)) + ((0,),(0,1))\n",
      "((1,2),(1,)) + ((0,2),(1,)) + ((0,2),(0,)) + ((0,1),(0,)) + ((2,),(0,2)) + ((1,),(0,2)) + ((1,),(1,2)) + ((0,),(0,2)) + ((0,2),(2,)) + ((0,),(0,1))\n",
      "((1,2),(1,)) + ((2,),(1,2)) + ((1,),(1,2)) + ((1,2),(2,))\n",
      "((1,2),(1,)) + ((0,2),(1,)) + ((0,),(1,2)) + ((2,),(0,2)) + ((1,),(0,2)) + ((1,2),(0,)) + ((1,),(1,2)) + ((0,2),(2,))\n",
      "((1,2),(1,)) + ((2,),(1,2)) + ((0,),(1,2)) + ((2,),(0,2)) + ((1,),(0,2)) + ((1,2),(0,)) + ((1,),(1,2)) + ((0,),(0,2)) + ((0,),(0,1))\n",
      "((1,),(0,2)) + ((1,),(0,1)) + ((1,2),(0,)) + ((0,2),(0,)) + ((0,1),(0,)) + ((0,),(1,2)) + ((1,2),(2,)) + ((0,2),(2,)) + ((0,1),(1,))\n",
      "((1,),(0,2)) + ((1,),(0,1)) + ((1,2),(0,)) + ((0,2),(0,)) + ((0,1),(0,)) + ((2,),(1,2)) + ((0,),(1,2)) + ((0,2),(1,)) + ((1,2),(2,)) + ((0,),(0,2)) + ((0,),(0,1)) + ((0,1),(1,))\n",
      "((1,),(0,1)) + ((0,2),(0,)) + ((0,1),(0,)) + ((2,),(0,2)) + ((0,),(0,2)) + ((0,2),(2,)) + ((0,),(0,1)) + ((0,1),(1,))\n",
      "((1,),(0,2)) + ((1,),(0,1)) + ((2,),(1,2)) + ((0,2),(1,)) + ((1,2),(2,)) + ((0,1),(1,))\n",
      "((1,),(0,1)) + ((0,),(1,2)) + ((2,),(0,2)) + ((1,2),(0,)) + ((0,2),(2,)) + ((0,1),(1,))\n",
      "((1,),(0,1)) + ((2,),(1,2)) + ((0,),(1,2)) + ((0,2),(1,)) + ((2,),(0,2)) + ((1,2),(0,)) + ((0,),(0,2)) + ((0,),(0,1)) + ((0,1),(1,))\n",
      "((1,2),(0,)) + ((0,2),(0,)) + ((0,1),(0,)) + ((2,),(1,2)) + ((0,2),(1,)) + ((1,),(1,2)) + ((1,2),(2,)) + ((0,1),(1,))\n",
      "((0,2),(0,)) + ((0,1),(0,)) + ((0,),(1,2)) + ((2,),(0,2)) + ((1,),(0,2)) + ((1,),(1,2)) + ((0,2),(2,)) + ((0,1),(1,))\n",
      "((0,2),(0,)) + ((0,1),(0,)) + ((2,),(1,2)) + ((0,),(1,2)) + ((0,2),(1,)) + ((2,),(0,2)) + ((1,),(0,2)) + ((1,),(1,2)) + ((0,),(0,2)) + ((0,),(0,1)) + ((0,1),(1,))\n",
      "((2,),(1,2)) + ((0,2),(1,)) + ((2,),(0,2)) + ((1,),(0,2)) + ((1,2),(0,)) + ((1,),(1,2)) + ((0,1),(1,))\n"
     ]
    }
   ],
   "source": [
    "from comch import *\n",
    "from itertools import combinations\n",
    "\n",
    "comch.free_module.default_torsion = 2\n",
    "tilde_12 = SimplicialElement({\n",
    "    ((0, 1, 2), (0, 1)): 1,\n",
    "    ((0, 2), (0, 1, 2)): 1,\n",
    "    ((1, 2), (0, 1, 2)): 1}) # Flipped\n",
    "\n",
    "sur_12  = SurjectionElement({(1, 2 ):1},torsion=2, convention=\"McClure-Smith\")\n",
    "sur_121 = SurjectionElement({(1,2,1):1},torsion=2, convention=\"McClure-Smith\")\n",
    "\n",
    "spx_2 = SimplicialElement({((0,1,2),):1})\n",
    "\n",
    "# print(repr(tilde_12.boundary() + sur_121(spx_2.boundary())))\n",
    "\n",
    "sym_tilde_02 = SimplicialElement({\n",
    "    ((0, 1, 2), (1,)): 1,\n",
    "    ((1,), (0, 1, 2)): 1,\n",
    "    ((0, 1, 2), (0,)): 1,\n",
    "    ((0,), (0, 1, 2)): 1,\n",
    "    ((0, 2),  (1, 2)): 1,\n",
    "    ((1, 2),  (0, 2)): 1\n",
    "})\n",
    "\n",
    "for keys in combinations(sym_tilde_02.keys(),3):\n",
    "    tilde_02 = SimplicialElement({k:1 for k in keys})\n",
    "    # if not tilde_02.boundary() + sur_12(spx_2.boundary()):\n",
    "    print(tilde_02.boundary() + sur_12(spx_2.boundary()))"
   ]
  },
  {
   "cell_type": "markdown",
   "id": "2e1d91f1",
   "metadata": {},
   "source": [
    "Reducible and free"
   ]
  },
  {
   "cell_type": "code",
   "execution_count": 60,
   "id": "bc1ebaaa",
   "metadata": {},
   "outputs": [
    {
     "data": {
      "text/plain": [
       "(True, True)"
      ]
     },
     "execution_count": 60,
     "metadata": {},
     "output_type": "execute_result"
    }
   ],
   "source": [
    "import comch \n",
    "\n",
    "n = 3\n",
    "spx_n = comch.simplicial.Simplicial.standard_element(n, times=1, torsion=2)\n",
    "spx_n_plus_1 = comch.simplicial.Simplicial.standard_element(n+1, times=1, torsion=2)\n",
    "\n",
    "Delta_0 = comch.SurjectionElement({(1,2):1}, torsion=2, convention=\"McClure-Smith\")\n",
    "Delta_1 = comch.SurjectionElement({(1,2,1):1}, torsion=2, convention=\"McClure-Smith\")\n",
    "\n",
    "tilde_Delta_n_plus_1 = Delta_0(spx_n_plus_1) + Delta_1(spx_n_plus_1.boundary())\n",
    "tilde_Delta_n = Delta_0(spx_n) + Delta_1(spx_n).boundary()\n",
    "\n",
    "a = tuple(tilde_Delta_n_plus_1.keys())\n",
    "b = tuple(tilde_Delta_n.keys())\n",
    "\n",
    "def complement(pairs,k):\n",
    "    answer = []\n",
    "    for v,w in pairs:\n",
    "        answer.append((tuple(i for i in range(k) if i not in v),\n",
    "                       tuple(i for i in range(k) if i not in w)))\n",
    "    return answer\n",
    "\n",
    "x = complement(a, n+2)\n",
    "y = complement(b, n+1)\n",
    "\n",
    "def free(z):\n",
    "    good = True\n",
    "    for a,b in z:\n",
    "        for c,d in z:\n",
    "            if a == d and b == c:\n",
    "                good = False\n",
    "    return good\n",
    "\n",
    "(free(x), free(y))"
   ]
  },
  {
   "cell_type": "code",
   "execution_count": 72,
   "id": "7ead1eff",
   "metadata": {},
   "outputs": [],
   "source": [
    "def degeneracy(x, j):\n",
    "    modified_tuple = []\n",
    "    for i in x:\n",
    "        if i <= j:\n",
    "            modified_tuple.append(i)\n",
    "        elif i > j:\n",
    "            modified_tuple.append(i - 1)\n",
    "    return tuple(modified_tuple)"
   ]
  },
  {
   "cell_type": "code",
   "execution_count": 73,
   "id": "225052bf",
   "metadata": {},
   "outputs": [
    {
     "name": "stdout",
     "output_type": "stream",
     "text": [
      "(1, 2, 3, 4)\n",
      "(0, 1, 2, 3)\n",
      "(2, 3, 4)\n",
      "(1, 2, 3)\n",
      "(3, 4)\n",
      "(2, 3)\n",
      "(4,)\n",
      "(3,)\n",
      "()\n",
      "()\n",
      "(0,)\n",
      "(0,)\n",
      "(0, 2)\n",
      "(0, 1)\n",
      "(0, 2, 3)\n",
      "(0, 1, 2)\n",
      "(0,)\n",
      "(0,)\n",
      "(0, 3)\n",
      "(0, 2)\n",
      "(0,)\n",
      "(0,)\n",
      "(1,)\n",
      "(0,)\n",
      "(1, 2)\n",
      "(0, 1)\n",
      "(1, 2, 3)\n",
      "(0, 1, 2)\n",
      "(1,)\n",
      "(0,)\n",
      "(1, 3)\n",
      "(0, 2)\n",
      "(1,)\n",
      "(0,)\n",
      "(2,)\n",
      "(1,)\n",
      "(1, 2)\n",
      "(0, 1)\n",
      "(1, 2, 3)\n",
      "(0, 1, 2)\n",
      "(2,)\n",
      "(1,)\n",
      "(2, 3)\n",
      "(1, 2)\n",
      "(2,)\n",
      "(1,)\n",
      "(3,)\n",
      "(2,)\n",
      "(1, 3)\n",
      "(0, 2)\n",
      "(1, 2, 3)\n",
      "(0, 1, 2)\n",
      "(3,)\n",
      "(2,)\n",
      "(2, 3)\n",
      "(1, 2)\n",
      "(3,)\n",
      "(2,)\n",
      "(4,)\n",
      "(3,)\n",
      "(1, 4)\n",
      "(0, 3)\n",
      "(1, 2, 4)\n",
      "(0, 1, 3)\n",
      "(4,)\n",
      "(3,)\n",
      "(2, 4)\n",
      "(1, 3)\n",
      "(4,)\n",
      "(3,)\n"
     ]
    }
   ],
   "source": [
    "for pair in x:\n",
    "    print(pair[0])\n",
    "    print(degeneracy(pair[0],0))"
   ]
  },
  {
   "cell_type": "code",
   "execution_count": 68,
   "id": "6a8ce026",
   "metadata": {
    "scrolled": true
   },
   "outputs": [],
   "source": [
    "# for e in x:\n",
    "#     print(f\"{e[0]}{e[1]} + \")\n",
    "# for e in y:\n",
    "#     print(f\"{e[0]}{e[1]} + \")"
   ]
  },
  {
   "cell_type": "markdown",
   "id": "fc07b6d4",
   "metadata": {},
   "source": [
    "Irreducible and not free"
   ]
  },
  {
   "cell_type": "code",
   "execution_count": 38,
   "id": "26294269",
   "metadata": {},
   "outputs": [],
   "source": [
    "def generate_partitions(x):\n",
    "    n = len(x)\n",
    "    partitions = []\n",
    "    # Iterate through all possible binary numbers from 0 to 2^n - 1\n",
    "    for i in range(1 << n):\n",
    "        a, b = [], []\n",
    "        for j in range(n):\n",
    "            # Check the j-th bit of i\n",
    "            if i & (1 << j):\n",
    "                b.append(x[j])\n",
    "            else:\n",
    "                a.append(x[j])\n",
    "        partitions.append((tuple(a), tuple(b)))\n",
    "    return partitions\n",
    "\n",
    "def complement(U,n):\n",
    "    return tuple(i for i in range(n+1) if i not in U)\n",
    "\n",
    "def partition_chain_dual(U, n):\n",
    "    data = {(complement(a,n),complement(b,n)):1 for a,b in generate_partitions(U)}\n",
    "    return comch.SimplicialElement(data, torsion=2)\n"
   ]
  },
  {
   "cell_type": "code",
   "execution_count": 44,
   "id": "3ad5e830",
   "metadata": {},
   "outputs": [
    {
     "name": "stdout",
     "output_type": "stream",
     "text": [
      "((0,1),(1,2)) + ((2,),(0,1,2)) + ((0,2),(1,2)) + ((1,2),(0,2)) + ((0,1),(0,2)) + ((0,2),(0,1)) + ((0,1,2),(0,))\n"
     ]
    }
   ],
   "source": [
    "# Boundary of the partition chain of the set {1}\n",
    "zeta = partition_chain_dual((0,1), 2) + partition_chain_dual((1,2), 2)\n",
    "print(Delta_0(spx_n) + zeta)\n",
    "# print(zeta)"
   ]
  },
  {
   "cell_type": "code",
   "execution_count": 48,
   "id": "03755ee2",
   "metadata": {},
   "outputs": [
    {
     "name": "stdout",
     "output_type": "stream",
     "text": [
      "(2,) (0,) + \n",
      "(0, 1) () + \n",
      "(1,) (0,) + \n",
      "(0,) (1,) + \n",
      "(2,) (1,) + \n",
      "(1,) (2,) + \n",
      "() (1, 2) + \n"
     ]
    }
   ],
   "source": [
    "for k in (Delta_0(spx_n) + zeta).keys():\n",
    "    print(complement(k[0],2), complement(k[1],2), \"+ \")"
   ]
  },
  {
   "cell_type": "code",
   "execution_count": 43,
   "id": "e814bdf1",
   "metadata": {},
   "outputs": [
    {
     "name": "stdout",
     "output_type": "stream",
     "text": [
      "((0, 1), ()) + \n",
      "((1,), (0,)) + \n",
      "((0,), (1,)) + \n",
      "((), (0, 1)) + \n",
      "((1, 2), ()) + \n",
      "((2,), (1,)) + \n",
      "((1,), (2,)) + \n",
      "((), (1, 2)) + \n"
     ]
    }
   ],
   "source": [
    "for a,b in generate_partitions((0,1)):\n",
    "    print(f\"{a,b} + \")\n",
    "for a,b in generate_partitions((1,2)):\n",
    "    print(f\"{a,b} + \")"
   ]
  },
  {
   "cell_type": "code",
   "execution_count": null,
   "id": "3699e474",
   "metadata": {},
   "outputs": [],
   "source": []
  },
  {
   "cell_type": "code",
   "execution_count": 29,
   "id": "38a893d1",
   "metadata": {},
   "outputs": [],
   "source": [
    "n = 2\n",
    "spx_n = comch.simplicial.Simplicial.standard_element(n, times=1, torsion=2)\n",
    "spx_n_plus_1 = comch.simplicial.Simplicial.standard_element(n+1, times=1, torsion=2)\n",
    "\n",
    "Delta_0 = comch.SurjectionElement({(1,2):1}, torsion=2, convention=\"McClure-Smith\")\n",
    "Delta_1 = comch.SurjectionElement({(1,2,1):1}, torsion=2, convention=\"McClure-Smith\")"
   ]
  },
  {
   "cell_type": "code",
   "execution_count": 24,
   "id": "6ab90352",
   "metadata": {},
   "outputs": [
    {
     "name": "stdout",
     "output_type": "stream",
     "text": [
      "free False\n",
      "irreducible True\n"
     ]
    }
   ],
   "source": [
    "import comch \n",
    "\n",
    "n=3\n",
    "spx_n = comch.simplicial.Simplicial.standard_element(n, times=1, torsion=2)\n",
    "spx_n_plus_1 = comch.simplicial.Simplicial.standard_element(n+1, times=1, torsion=2)\n",
    "\n",
    "Delta_0 = comch.SurjectionElement({(1,2,1,2,1):1}, torsion=2, convention=\"McClure-Smith\")\n",
    "Delta_1 = comch.SurjectionElement({(1,2,1,2,1,2):1}, torsion=2, convention=\"McClure-Smith\")\n",
    "TDelta_1 = comch.SurjectionElement({(2,1,2,1,2,1):1}, torsion=2, convention=\"McClure-Smith\")\n",
    "\n",
    "tilde_Delta_0 = Delta_0(spx_n) + (Delta_1(spx_n) + TDelta_1(spx_n)).boundary()\n",
    "\n",
    "y = tuple(tilde_Delta_0.keys())\n",
    "\n",
    "def complement(pairs,k):\n",
    "    answer = []\n",
    "    for v,w in pairs:\n",
    "        answer.append((tuple(i for i in range(k) if i not in v),\n",
    "                       tuple(i for i in range(k) if i not in w)))\n",
    "    return answer\n",
    "\n",
    "yc = complement(y, n+1)\n",
    "\n",
    "def free(z):\n",
    "    good = True\n",
    "    for a,b in z:\n",
    "        for c,d in z:\n",
    "            if a==d and b==c:\n",
    "                good = False\n",
    "    return good\n",
    "\n",
    "def irreducible(z):\n",
    "    good = True\n",
    "    for a,b in z:\n",
    "        if set(a).intersection(set(b)):\n",
    "#             print(a,b)\n",
    "            good = False\n",
    "    return good\n",
    "\n",
    "print(\"free\",free(yc))\n",
    "print(\"irreducible\",irreducible(yc))\n",
    "# yc\n",
    "# y"
   ]
  },
  {
   "cell_type": "code",
   "execution_count": 47,
   "id": "91f4649a",
   "metadata": {},
   "outputs": [],
   "source": [
    "from comch import SimplicialElement as SE\n",
    "from itertools import product"
   ]
  },
  {
   "cell_type": "code",
   "execution_count": 50,
   "id": "8bfbfc27",
   "metadata": {},
   "outputs": [
    {
     "data": {
      "text/plain": [
       "[((0, 1, 2), (0,)),\n",
       " ((0, 1, 2), (1,)),\n",
       " ((0, 1, 2), (2,)),\n",
       " ((0,), (0, 1, 2)),\n",
       " ((1,), (0, 1, 2)),\n",
       " ((2,), (0, 1, 2)),\n",
       " ((0, 1), (0, 2)),\n",
       " ((0, 1), (1, 2)),\n",
       " ((0, 2), (0, 1)),\n",
       " ((0, 2), (1, 2)),\n",
       " ((1, 2), (0, 1)),\n",
       " ((1, 2), (0, 2))]"
      ]
     },
     "execution_count": 50,
     "metadata": {},
     "output_type": "execute_result"
    }
   ],
   "source": [
    "basis = [\n",
    "((0,1,2),(0,)),\n",
    "((0,1,2),(1,)),\n",
    "((0,1,2),(2,)),\n",
    "((0,),(0,1,2)),\n",
    "((1,),(0,1,2)),\n",
    "((2,),(0,1,2)),\n",
    "((0,1),(0,2)),\n",
    "((0,1),(1,2)),\n",
    "((0,2),(0,1)),\n",
    "((0,2),(1,2)),\n",
    "((1,2),(0,1)),\n",
    "((1,2),(0,2))]\n",
    "\n",
    "# basis\n",
    "# SE({((0,2),(1,2)):1, ((1,2),(0,2)):1},torsion=2).boundary()"
   ]
  },
  {
   "cell_type": "code",
   "execution_count": 54,
   "id": "be64eda1",
   "metadata": {},
   "outputs": [
    {
     "name": "stdout",
     "output_type": "stream",
     "text": [
      "0\n",
      "((0,1,2),(1,)) + ((0,1,2),(2,)) + ((1,),(0,1,2)) + ((2,),(0,1,2)) + ((0,1),(1,2)) + ((0,2),(1,2)) + ((1,2),(0,1)) + ((1,2),(0,2))\n",
      "((0,1,2),(0,)) + ((0,1,2),(2,)) + ((0,),(0,1,2)) + ((2,),(0,1,2)) + ((0,1),(0,2)) + ((0,2),(0,1)) + ((0,2),(1,2)) + ((1,2),(0,2))\n",
      "((0,1,2),(0,)) + ((0,1,2),(1,)) + ((0,),(0,1,2)) + ((1,),(0,1,2)) + ((0,1),(0,2)) + ((0,1),(1,2)) + ((0,2),(0,1)) + ((1,2),(0,1))\n"
     ]
    }
   ],
   "source": [
    "for coeff in product([0, 1], repeat=12):\n",
    "#     element = SE({b:c for b,c in zip(basis,coeff)})\n",
    "    element = SE({b:c for b,c in zip(basis,coeff)},torsion=2)\n",
    "    if not element.boundary():\n",
    "        print(element)"
   ]
  }
 ],
 "metadata": {
  "kernelspec": {
   "display_name": "Python 3 (ipykernel)",
   "language": "python",
   "name": "python3"
  },
  "language_info": {
   "codemirror_mode": {
    "name": "ipython",
    "version": 3
   },
   "file_extension": ".py",
   "mimetype": "text/x-python",
   "name": "python",
   "nbconvert_exporter": "python",
   "pygments_lexer": "ipython3",
   "version": "3.8.5"
  }
 },
 "nbformat": 4,
 "nbformat_minor": 5
}
