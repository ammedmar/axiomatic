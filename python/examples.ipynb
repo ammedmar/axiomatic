{
 "cells": [
  {
   "cell_type": "markdown",
   "id": "2e1d91f1",
   "metadata": {},
   "source": [
    "Reducible and free"
   ]
  },
  {
   "cell_type": "code",
   "execution_count": 1,
   "id": "bc1ebaaa",
   "metadata": {},
   "outputs": [
    {
     "data": {
      "text/plain": [
       "(True, True)"
      ]
     },
     "execution_count": 1,
     "metadata": {},
     "output_type": "execute_result"
    }
   ],
   "source": [
    "import comch \n",
    "\n",
    "n = 3\n",
    "spx_n = comch.simplicial.Simplicial.standard_element(n, times=1, torsion=2)\n",
    "spx_n_plus_1 = comch.simplicial.Simplicial.standard_element(n+1, times=1, torsion=2)\n",
    "\n",
    "Delta_0 = comch.SurjectionElement({(1,2):1}, torsion=2, convention=\"McClure-Smith\")\n",
    "Delta_1 = comch.SurjectionElement({(1,2,1):1}, torsion=2, convention=\"McClure-Smith\")\n",
    "\n",
    "tilde_Delta_n_plus_1 = Delta_0(spx_n_plus_1) + Delta_1(spx_n_plus_1.boundary())\n",
    "tilde_Delta_n = Delta_0(spx_n) + Delta_1(spx_n).boundary()\n",
    "\n",
    "a = tuple(tilde_Delta_n_plus_1.keys())\n",
    "b = tuple(tilde_Delta_n.keys())\n",
    "\n",
    "def complement(pairs,k):\n",
    "    answer = []\n",
    "    for v,w in pairs:\n",
    "        answer.append((tuple(i for i in range(k) if i not in v),\n",
    "                       tuple(i for i in range(k) if i not in w)))\n",
    "    return answer\n",
    "\n",
    "x = complement(a, n+2)\n",
    "y = complement(b, n+1)\n",
    "\n",
    "def free(z):\n",
    "    good = True\n",
    "    for a,b in z:\n",
    "        for c,d in z:\n",
    "            if a==d and b==c:\n",
    "                good = False\n",
    "    return good\n",
    "\n",
    "(free(x), free(y))"
   ]
  },
  {
   "cell_type": "code",
   "execution_count": 2,
   "id": "6a8ce026",
   "metadata": {},
   "outputs": [
    {
     "name": "stdout",
     "output_type": "stream",
     "text": [
      "(1, 2, 3, 4)() + \n",
      "(2, 3, 4)(0,) + \n",
      "(3, 4)(0, 1) + \n",
      "(4,)(0, 1, 2) + \n",
      "()(0, 1, 2, 3) + \n",
      "(0,)(0, 3, 4) + \n",
      "(0, 2)(0, 4) + \n",
      "(0, 2, 3)(0,) + \n",
      "(0,)(0, 1, 4) + \n",
      "(0, 3)(0, 1) + \n",
      "(0,)(0, 1, 2) + \n",
      "(1,)(1, 3, 4) + \n",
      "(1, 2)(1, 4) + \n",
      "(1, 2, 3)(1,) + \n",
      "(1,)(0, 1, 4) + \n",
      "(1, 3)(0, 1) + \n",
      "(1,)(0, 1, 2) + \n",
      "(2,)(2, 3, 4) + \n",
      "(1, 2)(2, 4) + \n",
      "(1, 2, 3)(2,) + \n",
      "(2,)(0, 2, 4) + \n",
      "(2, 3)(0, 2) + \n",
      "(2,)(0, 1, 2) + \n",
      "(3,)(2, 3, 4) + \n",
      "(1, 3)(3, 4) + \n",
      "(1, 2, 3)(3,) + \n",
      "(3,)(0, 3, 4) + \n",
      "(2, 3)(0, 3) + \n",
      "(3,)(0, 1, 3) + \n",
      "(4,)(2, 3, 4) + \n",
      "(1, 4)(3, 4) + \n",
      "(1, 2, 4)(4,) + \n",
      "(4,)(0, 3, 4) + \n",
      "(2, 4)(0, 4) + \n",
      "(4,)(0, 1, 4) + \n",
      "(0,)(2, 3) + \n",
      "(2,)(2, 3) + \n",
      "(3,)(2, 3) + \n",
      "()(1, 2, 3) + \n",
      "(0, 1)(3,) + \n",
      "(1, 3)(3,) + \n",
      "(1,)(1, 3) + \n",
      "(0, 1, 2)() + \n",
      "(1, 2)(1,) + \n",
      "(1, 2)(2,) + \n",
      "(0,)(0, 3) + \n",
      "(3,)(0, 3) + \n",
      "(0, 2)(0,) + \n",
      "(2,)(0, 2) + \n",
      "(0,)(0, 1) + \n",
      "(1,)(0, 1) + \n"
     ]
    }
   ],
   "source": [
    "for e in x:\n",
    "    print(f\"{e[0]}{e[1]} + \")\n",
    "for e in y:\n",
    "    print(f\"{e[0]}{e[1]} + \")"
   ]
  },
  {
   "cell_type": "markdown",
   "id": "fc07b6d4",
   "metadata": {},
   "source": [
    "Irreducible and not free"
   ]
  },
  {
   "cell_type": "code",
   "execution_count": 24,
   "id": "6ab90352",
   "metadata": {},
   "outputs": [
    {
     "name": "stdout",
     "output_type": "stream",
     "text": [
      "free False\n",
      "irreducible True\n"
     ]
    }
   ],
   "source": [
    "import comch \n",
    "\n",
    "n=3\n",
    "spx_n = comch.simplicial.Simplicial.standard_element(n, times=1, torsion=2)\n",
    "spx_n_plus_1 = comch.simplicial.Simplicial.standard_element(n+1, times=1, torsion=2)\n",
    "\n",
    "Delta_0 = comch.SurjectionElement({(1,2,1,2,1):1}, torsion=2, convention=\"McClure-Smith\")\n",
    "Delta_1 = comch.SurjectionElement({(1,2,1,2,1,2):1}, torsion=2, convention=\"McClure-Smith\")\n",
    "TDelta_1 = comch.SurjectionElement({(2,1,2,1,2,1):1}, torsion=2, convention=\"McClure-Smith\")\n",
    "\n",
    "tilde_Delta_0 = Delta_0(spx_n) + (Delta_1(spx_n) + TDelta_1(spx_n)).boundary()\n",
    "\n",
    "y = tuple(tilde_Delta_0.keys())\n",
    "\n",
    "def complement(pairs,k):\n",
    "    answer = []\n",
    "    for v,w in pairs:\n",
    "        answer.append((tuple(i for i in range(k) if i not in v),\n",
    "                       tuple(i for i in range(k) if i not in w)))\n",
    "    return answer\n",
    "\n",
    "yc = complement(y, n+1)\n",
    "\n",
    "def free(z):\n",
    "    good = True\n",
    "    for a,b in z:\n",
    "        for c,d in z:\n",
    "            if a==d and b==c:\n",
    "                good = False\n",
    "    return good\n",
    "\n",
    "def irreducible(z):\n",
    "    good = True\n",
    "    for a,b in z:\n",
    "        if set(a).intersection(set(b)):\n",
    "#             print(a,b)\n",
    "            good = False\n",
    "    return good\n",
    "\n",
    "print(\"free\",free(yc))\n",
    "print(\"irreducible\",irreducible(yc))\n",
    "# yc\n",
    "# y"
   ]
  },
  {
   "cell_type": "code",
   "execution_count": 47,
   "id": "91f4649a",
   "metadata": {},
   "outputs": [],
   "source": [
    "from comch import SimplicialElement as SE\n",
    "from itertools import product"
   ]
  },
  {
   "cell_type": "code",
   "execution_count": 50,
   "id": "8bfbfc27",
   "metadata": {},
   "outputs": [
    {
     "data": {
      "text/plain": [
       "[((0, 1, 2), (0,)),\n",
       " ((0, 1, 2), (1,)),\n",
       " ((0, 1, 2), (2,)),\n",
       " ((0,), (0, 1, 2)),\n",
       " ((1,), (0, 1, 2)),\n",
       " ((2,), (0, 1, 2)),\n",
       " ((0, 1), (0, 2)),\n",
       " ((0, 1), (1, 2)),\n",
       " ((0, 2), (0, 1)),\n",
       " ((0, 2), (1, 2)),\n",
       " ((1, 2), (0, 1)),\n",
       " ((1, 2), (0, 2))]"
      ]
     },
     "execution_count": 50,
     "metadata": {},
     "output_type": "execute_result"
    }
   ],
   "source": [
    "basis = [\n",
    "((0,1,2),(0,)),\n",
    "((0,1,2),(1,)),\n",
    "((0,1,2),(2,)),\n",
    "((0,),(0,1,2)),\n",
    "((1,),(0,1,2)),\n",
    "((2,),(0,1,2)),\n",
    "((0,1),(0,2)),\n",
    "((0,1),(1,2)),\n",
    "((0,2),(0,1)),\n",
    "((0,2),(1,2)),\n",
    "((1,2),(0,1)),\n",
    "((1,2),(0,2))]\n",
    "\n",
    "# basis\n",
    "# SE({((0,2),(1,2)):1, ((1,2),(0,2)):1},torsion=2).boundary()"
   ]
  },
  {
   "cell_type": "code",
   "execution_count": 54,
   "id": "be64eda1",
   "metadata": {},
   "outputs": [
    {
     "name": "stdout",
     "output_type": "stream",
     "text": [
      "0\n",
      "((0,1,2),(1,)) + ((0,1,2),(2,)) + ((1,),(0,1,2)) + ((2,),(0,1,2)) + ((0,1),(1,2)) + ((0,2),(1,2)) + ((1,2),(0,1)) + ((1,2),(0,2))\n",
      "((0,1,2),(0,)) + ((0,1,2),(2,)) + ((0,),(0,1,2)) + ((2,),(0,1,2)) + ((0,1),(0,2)) + ((0,2),(0,1)) + ((0,2),(1,2)) + ((1,2),(0,2))\n",
      "((0,1,2),(0,)) + ((0,1,2),(1,)) + ((0,),(0,1,2)) + ((1,),(0,1,2)) + ((0,1),(0,2)) + ((0,1),(1,2)) + ((0,2),(0,1)) + ((1,2),(0,1))\n"
     ]
    }
   ],
   "source": [
    "for coeff in product([0, 1], repeat=12):\n",
    "#     element = SE({b:c for b,c in zip(basis,coeff)})\n",
    "    element = SE({b:c for b,c in zip(basis,coeff)},torsion=2)\n",
    "    if not element.boundary():\n",
    "        print(element)"
   ]
  }
 ],
 "metadata": {
  "kernelspec": {
   "display_name": "Python 3 (ipykernel)",
   "language": "python",
   "name": "python3"
  },
  "language_info": {
   "codemirror_mode": {
    "name": "ipython",
    "version": 3
   },
   "file_extension": ".py",
   "mimetype": "text/x-python",
   "name": "python",
   "nbconvert_exporter": "python",
   "pygments_lexer": "ipython3",
   "version": "3.8.5"
  }
 },
 "nbformat": 4,
 "nbformat_minor": 5
}
